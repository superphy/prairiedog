{
 "cells": [
  {
   "cell_type": "code",
   "execution_count": 2,
   "metadata": {},
   "outputs": [],
   "source": [
    "rq = {\n",
    "        \"e\": [\n",
    "          {\n",
    "            \"e\": [\n",
    "              {\n",
    "                \"e\": [\n",
    "                  {\n",
    "                    \"e\": [\n",
    "                      {\n",
    "                        \"e\": [\n",
    "                          {\n",
    "                            \"e\": [\n",
    "                              {\n",
    "                                \"km\": \"ATCG\"\n",
    "                              }\n",
    "                            ],\n",
    "                            \"type\": \"genome_a\",\n",
    "                            \"value\": \"2\"\n",
    "                          }\n",
    "                        ],\n",
    "                        \"km\": \"ATGG\"\n",
    "                      }\n",
    "                    ],\n",
    "                    \"type\": \"genome_a\",\n",
    "                    \"value\": \"3\"\n",
    "                  },\n",
    "                  {\n",
    "                    \"e\": [\n",
    "                      {\n",
    "                        \"e\": [\n",
    "                          {\n",
    "                            \"e\": [\n",
    "                              {\n",
    "                                \"km\": \"ATCG\"\n",
    "                              }\n",
    "                            ],\n",
    "                            \"type\": \"genome_a\",\n",
    "                            \"value\": \"2\"\n",
    "                          }\n",
    "                        ],\n",
    "                        \"km\": \"ATGG\"\n",
    "                      }\n",
    "                    ],\n",
    "                    \"type\": \"genome_a\",\n",
    "                    \"value\": \"1\"\n",
    "                  }\n",
    "                ],\n",
    "                \"km\": \"ATCG\"\n",
    "              }\n",
    "            ],\n",
    "            \"type\": \"genome_a\",\n",
    "            \"value\": \"0\"\n",
    "          }\n",
    "        ],\n",
    "        \"km\": \"ATCC\"\n",
    "      }"
   ]
  },
  {
   "cell_type": "code",
   "execution_count": 3,
   "metadata": {},
   "outputs": [
    {
     "data": {
      "text/plain": [
       "{'e': [{'e': [{'e': [{'e': [{'e': [{'e': [{'km': 'ATCG'}],\n",
       "           'type': 'genome_a',\n",
       "           'value': '2'}],\n",
       "         'km': 'ATGG'}],\n",
       "       'type': 'genome_a',\n",
       "       'value': '3'},\n",
       "      {'e': [{'e': [{'e': [{'km': 'ATCG'}], 'type': 'genome_a', 'value': '2'}],\n",
       "         'km': 'ATGG'}],\n",
       "       'type': 'genome_a',\n",
       "       'value': '1'}],\n",
       "     'km': 'ATCG'}],\n",
       "   'type': 'genome_a',\n",
       "   'value': '0'}],\n",
       " 'km': 'ATCC'}"
      ]
     },
     "execution_count": 3,
     "metadata": {},
     "output_type": "execute_result"
    }
   ],
   "source": [
    "rq"
   ]
  },
  {
   "cell_type": "code",
   "execution_count": 14,
   "metadata": {},
   "outputs": [
    {
     "data": {
      "text/plain": [
       "1"
      ]
     },
     "execution_count": 14,
     "metadata": {},
     "output_type": "execute_result"
    }
   ],
   "source": [
    "len(rq['e'])"
   ]
  },
  {
   "cell_type": "code",
   "execution_count": 6,
   "metadata": {},
   "outputs": [
    {
     "data": {
      "text/plain": [
       "{'e': [{'e': [{'e': [{'e': [{'e': [{'km': 'ATCG'}],\n",
       "         'type': 'genome_a',\n",
       "         'value': '2'}],\n",
       "       'km': 'ATGG'}],\n",
       "     'type': 'genome_a',\n",
       "     'value': '3'},\n",
       "    {'e': [{'e': [{'e': [{'km': 'ATCG'}], 'type': 'genome_a', 'value': '2'}],\n",
       "       'km': 'ATGG'}],\n",
       "     'type': 'genome_a',\n",
       "     'value': '1'}],\n",
       "   'km': 'ATCG'}],\n",
       " 'type': 'genome_a',\n",
       " 'value': '0'}"
      ]
     },
     "execution_count": 6,
     "metadata": {},
     "output_type": "execute_result"
    }
   ],
   "source": [
    "rq['e'][0]"
   ]
  },
  {
   "cell_type": "code",
   "execution_count": 15,
   "metadata": {},
   "outputs": [
    {
     "data": {
      "text/plain": [
       "1"
      ]
     },
     "execution_count": 15,
     "metadata": {},
     "output_type": "execute_result"
    }
   ],
   "source": [
    "len(rq['e'][0]['e'])"
   ]
  },
  {
   "cell_type": "code",
   "execution_count": 8,
   "metadata": {},
   "outputs": [
    {
     "data": {
      "text/plain": [
       "{'e': [{'e': [{'e': [{'e': [{'km': 'ATCG'}],\n",
       "       'type': 'genome_a',\n",
       "       'value': '2'}],\n",
       "     'km': 'ATGG'}],\n",
       "   'type': 'genome_a',\n",
       "   'value': '3'},\n",
       "  {'e': [{'e': [{'e': [{'km': 'ATCG'}], 'type': 'genome_a', 'value': '2'}],\n",
       "     'km': 'ATGG'}],\n",
       "   'type': 'genome_a',\n",
       "   'value': '1'}],\n",
       " 'km': 'ATCG'}"
      ]
     },
     "execution_count": 8,
     "metadata": {},
     "output_type": "execute_result"
    }
   ],
   "source": [
    "rq['e'][0]['e'][0]"
   ]
  },
  {
   "cell_type": "code",
   "execution_count": 16,
   "metadata": {},
   "outputs": [
    {
     "data": {
      "text/plain": [
       "2"
      ]
     },
     "execution_count": 16,
     "metadata": {},
     "output_type": "execute_result"
    }
   ],
   "source": [
    "len(rq['e'][0]['e'][0]['e'])"
   ]
  },
  {
   "cell_type": "code",
   "execution_count": 11,
   "metadata": {},
   "outputs": [
    {
     "data": {
      "text/plain": [
       "{'e': [{'e': [{'e': [{'km': 'ATCG'}], 'type': 'genome_a', 'value': '2'}],\n",
       "   'km': 'ATGG'}],\n",
       " 'type': 'genome_a',\n",
       " 'value': '3'}"
      ]
     },
     "execution_count": 11,
     "metadata": {},
     "output_type": "execute_result"
    }
   ],
   "source": [
    "rq['e'][0]['e'][0]['e'][0]"
   ]
  },
  {
   "cell_type": "code",
   "execution_count": 12,
   "metadata": {},
   "outputs": [
    {
     "data": {
      "text/plain": [
       "{'e': [{'e': [{'km': 'ATCG'}], 'type': 'genome_a', 'value': '2'}],\n",
       " 'km': 'ATGG'}"
      ]
     },
     "execution_count": 12,
     "metadata": {},
     "output_type": "execute_result"
    }
   ],
   "source": [
    "rq['e'][0]['e'][0]['e'][0]['e'][0]"
   ]
  },
  {
   "cell_type": "code",
   "execution_count": 13,
   "metadata": {},
   "outputs": [
    {
     "data": {
      "text/plain": [
       "{'e': [{'km': 'ATCG'}], 'type': 'genome_a', 'value': '2'}"
      ]
     },
     "execution_count": 13,
     "metadata": {},
     "output_type": "execute_result"
    }
   ],
   "source": [
    "rq['e'][0]['e'][0]['e'][0]['e'][0]['e'][0]"
   ]
  },
  {
   "cell_type": "code",
   "execution_count": 52,
   "metadata": {},
   "outputs": [],
   "source": [
    "def r(node_type: str, node_value: str, edge_predicate: str, edge_type: str,\n",
    "      depth: int) -> str:\n",
    "    s = '{{f(func: eq({nt}, \"{nv}\")) {{ {nt} '.format(\n",
    "        nt=node_type, nv=node_value)\n",
    "    for ix in range(0, depth+1):\n",
    "        s += '{ep} @filter(eq(type, \"{et}\") AND eq(value, {v})) {{ {ep} {{ {nt} '.format(\n",
    "            ep=edge_predicate, et=edge_type, v=ix, nt=node_type)\n",
    "    for ix in range(0, depth+1):\n",
    "        s += '}}'\n",
    "    s += '}}'\n",
    "    return s"
   ]
  },
  {
   "cell_type": "code",
   "execution_count": 53,
   "metadata": {},
   "outputs": [],
   "source": [
    "s = r(\"km\", \"ATCC\", \"e\", \"genome_a\", 3)"
   ]
  },
  {
   "cell_type": "code",
   "execution_count": 54,
   "metadata": {},
   "outputs": [
    {
     "data": {
      "text/plain": [
       "'{f(func: eq(km, \"ATCC\")) { km e @filter(eq(type, \"genome_a\") AND eq(value, 0)) { e { km e @filter(eq(type, \"genome_a\") AND eq(value, 1)) { e { km e @filter(eq(type, \"genome_a\") AND eq(value, 2)) { e { km e @filter(eq(type, \"genome_a\") AND eq(value, 3)) { e { km }}}}}}}}}}'"
      ]
     },
     "execution_count": 54,
     "metadata": {},
     "output_type": "execute_result"
    }
   ],
   "source": [
    "s"
   ]
  },
  {
   "cell_type": "code",
   "execution_count": 16,
   "metadata": {},
   "outputs": [],
   "source": [
    "d = {'f': [{'fd': [{'fd': [{'n': 'BCD'}]}], 'n': 'ABC'}]}\n",
    "d = d['f']\n",
    "d = d[0]"
   ]
  },
  {
   "cell_type": "code",
   "execution_count": 17,
   "metadata": {},
   "outputs": [],
   "source": [
    "s = d['n']"
   ]
  },
  {
   "cell_type": "code",
   "execution_count": 18,
   "metadata": {},
   "outputs": [
    {
     "name": "stdout",
     "output_type": "stream",
     "text": [
      "{'n': 'BCD'}\n"
     ]
    }
   ],
   "source": [
    "while True:\n",
    "    if 'fd' not in d:\n",
    "        break\n",
    "    d = d['fd'][0]['fd'][0]\n",
    "    print(d)\n",
    "    s += d['n'][-1]"
   ]
  },
  {
   "cell_type": "code",
   "execution_count": 19,
   "metadata": {},
   "outputs": [
    {
     "data": {
      "text/plain": [
       "'ABCD'"
      ]
     },
     "execution_count": 19,
     "metadata": {},
     "output_type": "execute_result"
    }
   ],
   "source": [
    "s"
   ]
  },
  {
   "cell_type": "code",
   "execution_count": null,
   "metadata": {},
   "outputs": [],
   "source": []
  }
 ],
 "metadata": {
  "kernelspec": {
   "display_name": "Python 3",
   "language": "python",
   "name": "python3"
  },
  "language_info": {
   "codemirror_mode": {
    "name": "ipython",
    "version": 3
   },
   "file_extension": ".py",
   "mimetype": "text/x-python",
   "name": "python",
   "nbconvert_exporter": "python",
   "pygments_lexer": "ipython3",
   "version": "3.7.3"
  }
 },
 "nbformat": 4,
 "nbformat_minor": 2
}
